{
  "nbformat": 4,
  "nbformat_minor": 0,
  "metadata": {
    "colab": {
      "name": "unemployment_data_preparation.ipynb",
      "provenance": [],
      "authorship_tag": "ABX9TyMHKxH1+bDLY8/t5DR18Lmp",
      "include_colab_link": true
    },
    "kernelspec": {
      "name": "python3",
      "display_name": "Python 3"
    }
  },
  "cells": [
    {
      "cell_type": "markdown",
      "metadata": {
        "id": "view-in-github",
        "colab_type": "text"
      },
      "source": [
        "<a href=\"https://colab.research.google.com/github/anushirahatti/unemployment-data/blob/master/src/unemployment_data_preparation.ipynb\" target=\"_parent\"><img src=\"https://colab.research.google.com/assets/colab-badge.svg\" alt=\"Open In Colab\"/></a>"
      ]
    },
    {
      "cell_type": "markdown",
      "metadata": {
        "id": "mcOhSFezqAMM",
        "colab_type": "text"
      },
      "source": [
        "# Data Extraction"
      ]
    },
    {
      "cell_type": "code",
      "metadata": {
        "id": "qJXcrbytqA7f",
        "colab_type": "code",
        "colab": {}
      },
      "source": [
        "import pandas as pd"
      ],
      "execution_count": 0,
      "outputs": []
    },
    {
      "cell_type": "markdown",
      "metadata": {
        "id": "J1Yyrd9pqiTn",
        "colab_type": "text"
      },
      "source": [
        "Unemployment data of Adults basis Education Qualification."
      ]
    },
    {
      "cell_type": "code",
      "metadata": {
        "id": "NcsWd6Ikqfyf",
        "colab_type": "code",
        "colab": {
          "base_uri": "https://localhost:8080/",
          "height": 527
        },
        "outputId": "7c6fe8cd-c11c-484c-f107-191b86a617b2"
      },
      "source": [
        "ue_primary_school = pd.read_csv('https://github.com/anushirahatti/unemployment-data/blob/master/raw_data/UErate_primary_school.csv', header=0)\n",
        "ue_high_school = pd.read_csv('https://github.com/anushirahatti/unemployment-data/blob/master/raw_data/UErate_high_school.csv', header=0)\n",
        "ue_associates = pd.read_csv('https://github.com/anushirahatti/unemployment-data/blob/master/raw_data/UErate_associates_degree.csv', header=0)\n",
        "ue_professional = pd.read_csv('https://github.com/anushirahatti/unemployment-data/blob/master/raw_data/UErate_professional_degree.csv', header=0)"
      ],
      "execution_count": 2,
      "outputs": [
        {
          "output_type": "error",
          "ename": "ParserError",
          "evalue": "ignored",
          "traceback": [
            "\u001b[0;31m---------------------------------------------------------------------------\u001b[0m",
            "\u001b[0;31mParserError\u001b[0m                               Traceback (most recent call last)",
            "\u001b[0;32m<ipython-input-2-8f85010806f1>\u001b[0m in \u001b[0;36m<module>\u001b[0;34m()\u001b[0m\n\u001b[0;32m----> 1\u001b[0;31m \u001b[0mue_primary_school\u001b[0m \u001b[0;34m=\u001b[0m \u001b[0mpd\u001b[0m\u001b[0;34m.\u001b[0m\u001b[0mread_csv\u001b[0m\u001b[0;34m(\u001b[0m\u001b[0;34m'https://github.com/anushirahatti/unemployment-data/blob/master/raw_data/UErate_primary_school.csv'\u001b[0m\u001b[0;34m,\u001b[0m \u001b[0mheader\u001b[0m\u001b[0;34m=\u001b[0m\u001b[0;36m0\u001b[0m\u001b[0;34m)\u001b[0m\u001b[0;34m\u001b[0m\u001b[0;34m\u001b[0m\u001b[0m\n\u001b[0m\u001b[1;32m      2\u001b[0m \u001b[0mue_high_school\u001b[0m \u001b[0;34m=\u001b[0m \u001b[0mpd\u001b[0m\u001b[0;34m.\u001b[0m\u001b[0mread_csv\u001b[0m\u001b[0;34m(\u001b[0m\u001b[0;34m'https://github.com/anushirahatti/unemployment-data/blob/master/raw_data/UErate_high_school.csv'\u001b[0m\u001b[0;34m,\u001b[0m \u001b[0mheader\u001b[0m\u001b[0;34m=\u001b[0m\u001b[0;36m0\u001b[0m\u001b[0;34m)\u001b[0m\u001b[0;34m\u001b[0m\u001b[0;34m\u001b[0m\u001b[0m\n\u001b[1;32m      3\u001b[0m \u001b[0mue_associates\u001b[0m \u001b[0;34m=\u001b[0m \u001b[0mpd\u001b[0m\u001b[0;34m.\u001b[0m\u001b[0mread_csv\u001b[0m\u001b[0;34m(\u001b[0m\u001b[0;34m'https://github.com/anushirahatti/unemployment-data/blob/master/raw_data/UErate_associates_degree.csv'\u001b[0m\u001b[0;34m,\u001b[0m \u001b[0mheader\u001b[0m\u001b[0;34m=\u001b[0m\u001b[0;36m0\u001b[0m\u001b[0;34m)\u001b[0m\u001b[0;34m\u001b[0m\u001b[0;34m\u001b[0m\u001b[0m\n\u001b[1;32m      4\u001b[0m \u001b[0mue_professional\u001b[0m \u001b[0;34m=\u001b[0m \u001b[0mpd\u001b[0m\u001b[0;34m.\u001b[0m\u001b[0mread_csv\u001b[0m\u001b[0;34m(\u001b[0m\u001b[0;34m'https://github.com/anushirahatti/unemployment-data/blob/master/raw_data/UErate_professional_degree.csv'\u001b[0m\u001b[0;34m,\u001b[0m \u001b[0mheader\u001b[0m\u001b[0;34m=\u001b[0m\u001b[0;36m0\u001b[0m\u001b[0;34m)\u001b[0m\u001b[0;34m\u001b[0m\u001b[0;34m\u001b[0m\u001b[0m\n",
            "\u001b[0;32m/usr/local/lib/python3.6/dist-packages/pandas/io/parsers.py\u001b[0m in \u001b[0;36mparser_f\u001b[0;34m(filepath_or_buffer, sep, delimiter, header, names, index_col, usecols, squeeze, prefix, mangle_dupe_cols, dtype, engine, converters, true_values, false_values, skipinitialspace, skiprows, skipfooter, nrows, na_values, keep_default_na, na_filter, verbose, skip_blank_lines, parse_dates, infer_datetime_format, keep_date_col, date_parser, dayfirst, cache_dates, iterator, chunksize, compression, thousands, decimal, lineterminator, quotechar, quoting, doublequote, escapechar, comment, encoding, dialect, error_bad_lines, warn_bad_lines, delim_whitespace, low_memory, memory_map, float_precision)\u001b[0m\n\u001b[1;32m    674\u001b[0m         )\n\u001b[1;32m    675\u001b[0m \u001b[0;34m\u001b[0m\u001b[0m\n\u001b[0;32m--> 676\u001b[0;31m         \u001b[0;32mreturn\u001b[0m \u001b[0m_read\u001b[0m\u001b[0;34m(\u001b[0m\u001b[0mfilepath_or_buffer\u001b[0m\u001b[0;34m,\u001b[0m \u001b[0mkwds\u001b[0m\u001b[0;34m)\u001b[0m\u001b[0;34m\u001b[0m\u001b[0;34m\u001b[0m\u001b[0m\n\u001b[0m\u001b[1;32m    677\u001b[0m \u001b[0;34m\u001b[0m\u001b[0m\n\u001b[1;32m    678\u001b[0m     \u001b[0mparser_f\u001b[0m\u001b[0;34m.\u001b[0m\u001b[0m__name__\u001b[0m \u001b[0;34m=\u001b[0m \u001b[0mname\u001b[0m\u001b[0;34m\u001b[0m\u001b[0;34m\u001b[0m\u001b[0m\n",
            "\u001b[0;32m/usr/local/lib/python3.6/dist-packages/pandas/io/parsers.py\u001b[0m in \u001b[0;36m_read\u001b[0;34m(filepath_or_buffer, kwds)\u001b[0m\n\u001b[1;32m    452\u001b[0m \u001b[0;34m\u001b[0m\u001b[0m\n\u001b[1;32m    453\u001b[0m     \u001b[0;32mtry\u001b[0m\u001b[0;34m:\u001b[0m\u001b[0;34m\u001b[0m\u001b[0;34m\u001b[0m\u001b[0m\n\u001b[0;32m--> 454\u001b[0;31m         \u001b[0mdata\u001b[0m \u001b[0;34m=\u001b[0m \u001b[0mparser\u001b[0m\u001b[0;34m.\u001b[0m\u001b[0mread\u001b[0m\u001b[0;34m(\u001b[0m\u001b[0mnrows\u001b[0m\u001b[0;34m)\u001b[0m\u001b[0;34m\u001b[0m\u001b[0;34m\u001b[0m\u001b[0m\n\u001b[0m\u001b[1;32m    455\u001b[0m     \u001b[0;32mfinally\u001b[0m\u001b[0;34m:\u001b[0m\u001b[0;34m\u001b[0m\u001b[0;34m\u001b[0m\u001b[0m\n\u001b[1;32m    456\u001b[0m         \u001b[0mparser\u001b[0m\u001b[0;34m.\u001b[0m\u001b[0mclose\u001b[0m\u001b[0;34m(\u001b[0m\u001b[0;34m)\u001b[0m\u001b[0;34m\u001b[0m\u001b[0;34m\u001b[0m\u001b[0m\n",
            "\u001b[0;32m/usr/local/lib/python3.6/dist-packages/pandas/io/parsers.py\u001b[0m in \u001b[0;36mread\u001b[0;34m(self, nrows)\u001b[0m\n\u001b[1;32m   1131\u001b[0m     \u001b[0;32mdef\u001b[0m \u001b[0mread\u001b[0m\u001b[0;34m(\u001b[0m\u001b[0mself\u001b[0m\u001b[0;34m,\u001b[0m \u001b[0mnrows\u001b[0m\u001b[0;34m=\u001b[0m\u001b[0;32mNone\u001b[0m\u001b[0;34m)\u001b[0m\u001b[0;34m:\u001b[0m\u001b[0;34m\u001b[0m\u001b[0;34m\u001b[0m\u001b[0m\n\u001b[1;32m   1132\u001b[0m         \u001b[0mnrows\u001b[0m \u001b[0;34m=\u001b[0m \u001b[0m_validate_integer\u001b[0m\u001b[0;34m(\u001b[0m\u001b[0;34m\"nrows\"\u001b[0m\u001b[0;34m,\u001b[0m \u001b[0mnrows\u001b[0m\u001b[0;34m)\u001b[0m\u001b[0;34m\u001b[0m\u001b[0;34m\u001b[0m\u001b[0m\n\u001b[0;32m-> 1133\u001b[0;31m         \u001b[0mret\u001b[0m \u001b[0;34m=\u001b[0m \u001b[0mself\u001b[0m\u001b[0;34m.\u001b[0m\u001b[0m_engine\u001b[0m\u001b[0;34m.\u001b[0m\u001b[0mread\u001b[0m\u001b[0;34m(\u001b[0m\u001b[0mnrows\u001b[0m\u001b[0;34m)\u001b[0m\u001b[0;34m\u001b[0m\u001b[0;34m\u001b[0m\u001b[0m\n\u001b[0m\u001b[1;32m   1134\u001b[0m \u001b[0;34m\u001b[0m\u001b[0m\n\u001b[1;32m   1135\u001b[0m         \u001b[0;31m# May alter columns / col_dict\u001b[0m\u001b[0;34m\u001b[0m\u001b[0;34m\u001b[0m\u001b[0;34m\u001b[0m\u001b[0m\n",
            "\u001b[0;32m/usr/local/lib/python3.6/dist-packages/pandas/io/parsers.py\u001b[0m in \u001b[0;36mread\u001b[0;34m(self, nrows)\u001b[0m\n\u001b[1;32m   2035\u001b[0m     \u001b[0;32mdef\u001b[0m \u001b[0mread\u001b[0m\u001b[0;34m(\u001b[0m\u001b[0mself\u001b[0m\u001b[0;34m,\u001b[0m \u001b[0mnrows\u001b[0m\u001b[0;34m=\u001b[0m\u001b[0;32mNone\u001b[0m\u001b[0;34m)\u001b[0m\u001b[0;34m:\u001b[0m\u001b[0;34m\u001b[0m\u001b[0;34m\u001b[0m\u001b[0m\n\u001b[1;32m   2036\u001b[0m         \u001b[0;32mtry\u001b[0m\u001b[0;34m:\u001b[0m\u001b[0;34m\u001b[0m\u001b[0;34m\u001b[0m\u001b[0m\n\u001b[0;32m-> 2037\u001b[0;31m             \u001b[0mdata\u001b[0m \u001b[0;34m=\u001b[0m \u001b[0mself\u001b[0m\u001b[0;34m.\u001b[0m\u001b[0m_reader\u001b[0m\u001b[0;34m.\u001b[0m\u001b[0mread\u001b[0m\u001b[0;34m(\u001b[0m\u001b[0mnrows\u001b[0m\u001b[0;34m)\u001b[0m\u001b[0;34m\u001b[0m\u001b[0;34m\u001b[0m\u001b[0m\n\u001b[0m\u001b[1;32m   2038\u001b[0m         \u001b[0;32mexcept\u001b[0m \u001b[0mStopIteration\u001b[0m\u001b[0;34m:\u001b[0m\u001b[0;34m\u001b[0m\u001b[0;34m\u001b[0m\u001b[0m\n\u001b[1;32m   2039\u001b[0m             \u001b[0;32mif\u001b[0m \u001b[0mself\u001b[0m\u001b[0;34m.\u001b[0m\u001b[0m_first_chunk\u001b[0m\u001b[0;34m:\u001b[0m\u001b[0;34m\u001b[0m\u001b[0;34m\u001b[0m\u001b[0m\n",
            "\u001b[0;32mpandas/_libs/parsers.pyx\u001b[0m in \u001b[0;36mpandas._libs.parsers.TextReader.read\u001b[0;34m()\u001b[0m\n",
            "\u001b[0;32mpandas/_libs/parsers.pyx\u001b[0m in \u001b[0;36mpandas._libs.parsers.TextReader._read_low_memory\u001b[0;34m()\u001b[0m\n",
            "\u001b[0;32mpandas/_libs/parsers.pyx\u001b[0m in \u001b[0;36mpandas._libs.parsers.TextReader._read_rows\u001b[0;34m()\u001b[0m\n",
            "\u001b[0;32mpandas/_libs/parsers.pyx\u001b[0m in \u001b[0;36mpandas._libs.parsers.TextReader._tokenize_rows\u001b[0;34m()\u001b[0m\n",
            "\u001b[0;32mpandas/_libs/parsers.pyx\u001b[0m in \u001b[0;36mpandas._libs.parsers.raise_parser_error\u001b[0;34m()\u001b[0m\n",
            "\u001b[0;31mParserError\u001b[0m: Error tokenizing data. C error: Expected 1 fields in line 49, saw 2\n"
          ]
        }
      ]
    },
    {
      "cell_type": "markdown",
      "metadata": {
        "id": "p7Upq0_HrGzi",
        "colab_type": "text"
      },
      "source": [
        "Unemployment data of Adults basis Race."
      ]
    },
    {
      "cell_type": "code",
      "metadata": {
        "id": "z23lt0RarPVw",
        "colab_type": "code",
        "colab": {}
      },
      "source": [
        "ue_white = pd.read_csv('https://github.com/anushirahatti/unemployment-data/blob/master/raw_data/UErate_white.csv', header=0)\n",
        "ue_black = pd.read_csv('https://github.com/anushirahatti/unemployment-data/blob/master/raw_data/UErate_black.csv', header=0)\n",
        "ue_asian = pd.read_csv('https://github.com/anushirahatti/unemployment-data/blob/master/raw_data/UErate_asian.csv', header=0)\n",
        "ue_hispanic = pd.read_csv('https://github.com/anushirahatti/unemployment-data/blob/master/raw_data/UErate_hispanic.csv', header=0)"
      ],
      "execution_count": 0,
      "outputs": []
    },
    {
      "cell_type": "markdown",
      "metadata": {
        "id": "V9sPRL5WrT34",
        "colab_type": "text"
      },
      "source": [
        "Unemployment data of Adults basis Gender."
      ]
    },
    {
      "cell_type": "code",
      "metadata": {
        "id": "zAxFuPuVrfJe",
        "colab_type": "code",
        "colab": {}
      },
      "source": [
        "ue_men = pd.read_csv('https://github.com/anushirahatti/unemployment-data/blob/master/raw_data/UErate_men.csv', header=0)\n",
        "ue_women = pd.read_csv('https://github.com/anushirahatti/unemployment-data/blob/master/raw_data/UErate_women.csv', header=0)"
      ],
      "execution_count": 0,
      "outputs": []
    },
    {
      "cell_type": "markdown",
      "metadata": {
        "id": "lT2bUaaiqKcU",
        "colab_type": "text"
      },
      "source": [
        "# Data Transformation"
      ]
    },
    {
      "cell_type": "markdown",
      "metadata": {
        "id": "yN5pZyw0tKCK",
        "colab_type": "text"
      },
      "source": [
        "Transforming extracted data in the format useful for performing Data Analysis."
      ]
    },
    {
      "cell_type": "code",
      "metadata": {
        "id": "zEUDkw8kr9JD",
        "colab_type": "code",
        "colab": {}
      },
      "source": [
        "ue_primary_school = ue_primary_school.melt(id_vars=[\"Year\"], \n",
        "        var_name=\"Month\", \n",
        "        value_name=\"Primary_School\")\n",
        "\n",
        "ue_primary_school['Date'] = ue_primary_school['Month'].map(str) + '-' + ue_primary_school['Year'].map(str)\n",
        "ue_primary_school"
      ],
      "execution_count": 0,
      "outputs": []
    },
    {
      "cell_type": "code",
      "metadata": {
        "id": "JLbPTWjQsbMO",
        "colab_type": "code",
        "colab": {}
      },
      "source": [
        "ue_high_school = ue_high_school.melt(id_vars=[\"Year\"], \n",
        "        var_name=\"Month\", \n",
        "        value_name=\"High_School\")\n",
        "\n",
        "ue_high_school['Date'] = ue_high_school['Month'].map(str) + '-' + ue_high_school['Year'].map(str)\n",
        "ue_high_school"
      ],
      "execution_count": 0,
      "outputs": []
    },
    {
      "cell_type": "code",
      "metadata": {
        "id": "cs1eZo9vsfZT",
        "colab_type": "code",
        "colab": {}
      },
      "source": [
        "ue_associates = ue_associates.melt(id_vars=[\"Year\"], \n",
        "        var_name=\"Month\", \n",
        "        value_name=\"Associates_Degree\")\n",
        "\n",
        "ue_associates['Date'] = ue_associates['Month'].map(str) + '-' + ue_associates['Year'].map(str)\n",
        "ue_associates"
      ],
      "execution_count": 0,
      "outputs": []
    },
    {
      "cell_type": "code",
      "metadata": {
        "id": "AXyCf-A2siui",
        "colab_type": "code",
        "colab": {}
      },
      "source": [
        "ue_professional = ue_professional.melt(id_vars=[\"Year\"], \n",
        "        var_name=\"Month\", \n",
        "        value_name=\"Professional_Degree\")\n",
        "\n",
        "ue_professional['Date'] = ue_professional['Month'].map(str) + '-' + ue_professional['Year'].map(str)\n",
        "ue_professional"
      ],
      "execution_count": 0,
      "outputs": []
    },
    {
      "cell_type": "code",
      "metadata": {
        "id": "3yrU5qOOsqPV",
        "colab_type": "code",
        "colab": {}
      },
      "source": [
        "ue_white = ue_white.melt(id_vars=[\"Year\"], \n",
        "        var_name=\"Month\", \n",
        "        value_name=\"White\")\n",
        "\n",
        "ue_white['Date'] = ue_white['Month'].map(str) + '-' + ue_white['Year'].map(str)\n",
        "ue_white"
      ],
      "execution_count": 0,
      "outputs": []
    },
    {
      "cell_type": "code",
      "metadata": {
        "id": "__3bGaSdswnl",
        "colab_type": "code",
        "colab": {}
      },
      "source": [
        "ue_black = ue_black.melt(id_vars=[\"Year\"], \n",
        "        var_name=\"Month\", \n",
        "        value_name=\"Black\")\n",
        "\n",
        "ue_black['Date'] = ue_black['Month'].map(str) + '-' + ue_black['Year'].map(str)\n",
        "ue_black"
      ],
      "execution_count": 0,
      "outputs": []
    },
    {
      "cell_type": "code",
      "metadata": {
        "id": "D2G_0rd1sz6i",
        "colab_type": "code",
        "colab": {}
      },
      "source": [
        "ue_asian = ue_asian.melt(id_vars=[\"Year\"], \n",
        "        var_name=\"Month\", \n",
        "        value_name=\"Asian\")\n",
        "\n",
        "ue_asian['Date'] = ue_asian['Month'].map(str) + '-' + ue_asian['Year'].map(str)\n",
        "ue_asian"
      ],
      "execution_count": 0,
      "outputs": []
    },
    {
      "cell_type": "code",
      "metadata": {
        "id": "OFCGlMyns0uZ",
        "colab_type": "code",
        "colab": {}
      },
      "source": [
        "ue_hispanic = ue_hispanic.melt(id_vars=[\"Year\"], \n",
        "        var_name=\"Month\", \n",
        "        value_name=\"Hispanic\")\n",
        "\n",
        "ue_hispanic['Date'] = ue_hispanic['Month'].map(str) + '-' + ue_hispanic['Year'].map(str)\n",
        "ue_hispanic"
      ],
      "execution_count": 0,
      "outputs": []
    },
    {
      "cell_type": "code",
      "metadata": {
        "id": "n-_TrIE4s6Bf",
        "colab_type": "code",
        "colab": {}
      },
      "source": [
        "ue_men = ue_men.melt(id_vars=[\"Year\"], \n",
        "        var_name=\"Month\", \n",
        "        value_name=\"Men\")\n",
        "\n",
        "ue_men['Date'] = ue_men['Month'].map(str) + '-' + ue_men['Year'].map(str)\n",
        "ue_men"
      ],
      "execution_count": 0,
      "outputs": []
    },
    {
      "cell_type": "code",
      "metadata": {
        "id": "NZPwLyOqs6-x",
        "colab_type": "code",
        "colab": {}
      },
      "source": [
        "ue_women = ue_women.melt(id_vars=[\"Year\"], \n",
        "        var_name=\"Month\", \n",
        "        value_name=\"Women\")\n",
        "\n",
        "ue_women['Date'] = ue_women['Month'].map(str) + '-' + ue_women['Year'].map(str)\n",
        "ue_women"
      ],
      "execution_count": 0,
      "outputs": []
    },
    {
      "cell_type": "markdown",
      "metadata": {
        "id": "fp09Qdb5uLql",
        "colab_type": "text"
      },
      "source": [
        "Merging the dataframes based on columns 'Year', 'Month', and 'Date'."
      ]
    },
    {
      "cell_type": "code",
      "metadata": {
        "id": "OL-3Lmxuue_R",
        "colab_type": "code",
        "colab": {}
      },
      "source": [
        "data1 = pd.merge(ue_primary_school, ue_high_school, on=['Date', 'Month', 'Year'])"
      ],
      "execution_count": 0,
      "outputs": []
    },
    {
      "cell_type": "code",
      "metadata": {
        "id": "yZ3pt0_bus78",
        "colab_type": "code",
        "colab": {}
      },
      "source": [
        "data2 = pd.merge(ue_associates, ue_professional, on=['Date', 'Month', 'Year'])"
      ],
      "execution_count": 0,
      "outputs": []
    },
    {
      "cell_type": "code",
      "metadata": {
        "id": "lW56OqHUutMA",
        "colab_type": "code",
        "colab": {}
      },
      "source": [
        "data3 = pd.merge(ue_white, ue_black, on=['Date', 'Month', 'Year'])"
      ],
      "execution_count": 0,
      "outputs": []
    },
    {
      "cell_type": "code",
      "metadata": {
        "id": "vVDm0wnSutWY",
        "colab_type": "code",
        "colab": {}
      },
      "source": [
        "data4 = pd.merge(ue_asian, ue_hispanic, on=['Date', 'Month', 'Year'])"
      ],
      "execution_count": 0,
      "outputs": []
    },
    {
      "cell_type": "code",
      "metadata": {
        "id": "AuAU4HKkutbz",
        "colab_type": "code",
        "colab": {}
      },
      "source": [
        "data5 = pd.merge(ue_men, ue_women, on=['Date', 'Month', 'Year'])"
      ],
      "execution_count": 0,
      "outputs": []
    },
    {
      "cell_type": "code",
      "metadata": {
        "id": "I4wnRXbrutfL",
        "colab_type": "code",
        "colab": {}
      },
      "source": [
        "data6 = pd.merge(data1, data2, on=['Date', 'Month', 'Year'])"
      ],
      "execution_count": 0,
      "outputs": []
    },
    {
      "cell_type": "code",
      "metadata": {
        "id": "6zVqOpf-u9Ou",
        "colab_type": "code",
        "colab": {}
      },
      "source": [
        "data7 = pd.merge(data6, data3, on=['Date', 'Month', 'Year'])"
      ],
      "execution_count": 0,
      "outputs": []
    },
    {
      "cell_type": "code",
      "metadata": {
        "id": "oSi15g0Vu_zo",
        "colab_type": "code",
        "colab": {}
      },
      "source": [
        "data8 = pd.merge(data7, data4, on=['Date', 'Month', 'Year'])"
      ],
      "execution_count": 0,
      "outputs": []
    },
    {
      "cell_type": "code",
      "metadata": {
        "id": "LUOkeKgKvCs5",
        "colab_type": "code",
        "colab": {}
      },
      "source": [
        "unemployment_data = pd.merge(data8, data5, on=['Date', 'Month', 'Year'])"
      ],
      "execution_count": 0,
      "outputs": []
    },
    {
      "cell_type": "markdown",
      "metadata": {
        "id": "JrraJ2G1vX2y",
        "colab_type": "text"
      },
      "source": [
        "# Dataset for Data Analysis"
      ]
    },
    {
      "cell_type": "code",
      "metadata": {
        "id": "qvW20x3Kvraq",
        "colab_type": "code",
        "colab": {}
      },
      "source": [
        "unemployment_data.head(10)"
      ],
      "execution_count": 0,
      "outputs": []
    },
    {
      "cell_type": "code",
      "metadata": {
        "id": "E_Gwbt-Tv-Aa",
        "colab_type": "code",
        "colab": {}
      },
      "source": [
        "unemployment_data.tail(10)"
      ],
      "execution_count": 0,
      "outputs": []
    },
    {
      "cell_type": "code",
      "metadata": {
        "id": "oSBM7LOXwDQM",
        "colab_type": "code",
        "colab": {}
      },
      "source": [
        "unemployment_data.info()"
      ],
      "execution_count": 0,
      "outputs": []
    }
  ]
}